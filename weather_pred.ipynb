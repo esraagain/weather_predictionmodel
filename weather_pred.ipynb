{
 "cells": [
  {
   "cell_type": "code",
   "execution_count": 1,
   "metadata": {},
   "outputs": [],
   "source": [
    "# Import necessary libraries\n",
    "import numpy as np\n",
    "import pandas as pd\n",
    "import requests\n",
    "from sklearn.ensemble import RandomForestRegressor\n",
    "from sklearn.model_selection import train_test_split\n",
    "from sklearn.preprocessing import StandardScaler"
   ]
  },
  {
   "cell_type": "code",
   "execution_count": 2,
   "metadata": {},
   "outputs": [],
   "source": [
    "# Function to get latitude and longitude from city name\n",
    "def get_coordinates(city_name):\n",
    "    base_url = \"https://nominatim.openstreetmap.org/search\"\n",
    "    params = {\"q\": city_name, \"format\": \"json\", \"limit\": 1}\n",
    "    headers = {\"User-Agent\": \"MyWeatherApp/1.0\"}  # To avoid blocking\n",
    "    \n",
    "    response = requests.get(base_url, params=params, headers=headers)\n",
    "    \n",
    "    if response.status_code != 200 or not response.json():\n",
    "        print(\"Error: Could not fetch coordinates.\")\n",
    "        return None\n",
    "    \n",
    "    data = response.json()[0]\n",
    "    return float(data[\"lat\"]), float(data[\"lon\"])"
   ]
  },
  {
   "cell_type": "code",
   "execution_count": 3,
   "metadata": {},
   "outputs": [],
   "source": [
    "# Function to get weather data\n",
    "def get_weather_data(lat, lon):\n",
    "    weather_url = \"https://api.open-meteo.com/v1/forecast\"\n",
    "    params = {\n",
    "        \"latitude\": lat,\n",
    "        \"longitude\": lon,\n",
    "        \"hourly\": \"temperature_2m,relative_humidity_2m,wind_speed_10m\",\n",
    "        \"timezone\": \"auto\"\n",
    "    }\n",
    "    \n",
    "    response = requests.get(weather_url, params=params)\n",
    "    \n",
    "    if response.status_code == 200:\n",
    "        return response.json()\n",
    "    else:\n",
    "        print(\"Error fetching weather data.\")\n",
    "        return None"
   ]
  },
  {
   "cell_type": "code",
   "execution_count": 4,
   "metadata": {},
   "outputs": [],
   "source": [
    "# Ask user for city input\n",
    "city = input(\"Enter city name: \")\n",
    "coords = get_coordinates(city)"
   ]
  },
  {
   "cell_type": "code",
   "execution_count": 5,
   "metadata": {},
   "outputs": [
    {
     "name": "stdout",
     "output_type": "stream",
     "text": [
      "✔️ Found 'New York' at Latitude: 40.7127281, Longitude: -74.0060152\n",
      "\n",
      "📊 Processing weather data...\n",
      "🚀 Model training complete!\n",
      "\n",
      "🔮 Hourly Temperature Predictions for next 12 hours:\n",
      "Hour 1: 0.09°C\n",
      "Hour 2: -0.47°C\n",
      "Hour 3: -0.80°C\n",
      "Hour 4: -0.47°C\n",
      "Hour 5: 1.14°C\n",
      "Hour 6: -0.16°C\n",
      "Hour 7: -1.16°C\n",
      "Hour 8: 0.68°C\n",
      "Hour 9: 0.60°C\n",
      "Hour 10: -0.52°C\n",
      "Hour 11: 0.84°C\n",
      "Hour 12: 0.68°C\n"
     ]
    }
   ],
   "source": [
    "if coords:\n",
    "    lat, lon = coords\n",
    "    print(f\"✔️ Found '{city}' at Latitude: {lat}, Longitude: {lon}\")\n",
    "    \n",
    "    # Fetch and process weather data\n",
    "    weather_data = get_weather_data(lat, lon)\n",
    "    \n",
    "    if weather_data:\n",
    "        try:\n",
    "            df = pd.DataFrame(weather_data[\"hourly\"])\n",
    "            df.drop(columns=[\"time\"], inplace=True, errors=\"ignore\")  # Drop time column\n",
    "            \n",
    "            print(\"\\n📊 Processing weather data...\")\n",
    "            df.fillna(df.mean(), inplace=True)  # Handle missing values\n",
    "            \n",
    "            scaler = StandardScaler()\n",
    "            df_scaled = pd.DataFrame(scaler.fit_transform(df), columns=df.columns)\n",
    "            \n",
    "            X = df_scaled.drop(columns=[\"temperature_2m\"])\n",
    "            y = df_scaled[\"temperature_2m\"]\n",
    "            \n",
    "            X_train, X_test, y_train, y_test = train_test_split(X, y, test_size=0.2, random_state=42)\n",
    "            \n",
    "            model = RandomForestRegressor(n_estimators=10, max_depth=5, random_state=42)\n",
    "            model.fit(X_train, y_train)\n",
    "            \n",
    "            print(\"🚀 Model training complete!\")\n",
    "            \n",
    "            # Make hourly predictions for the next 12 hours\n",
    "            predictions = model.predict(X_test[:12])  # Taking first 12 samples from test set\n",
    "            \n",
    "            print(\"\\n🔮 Hourly Temperature Predictions for next 12 hours:\")\n",
    "            for i, temp in enumerate(predictions):\n",
    "                print(f\"Hour {i+1}: {temp:.2f}°C\")\n",
    "\n",
    "        except Exception as e:\n",
    "            print(f\"⚠️ Oops! Something went wrong during processing: {e}\")\n",
    "else:\n",
    "    print(\"⚠️ Could not proceed without coordinates.\")"
   ]
  }
 ],
 "metadata": {
  "kernelspec": {
   "display_name": "Python 3",
   "language": "python",
   "name": "python3"
  },
  "language_info": {
   "codemirror_mode": {
    "name": "ipython",
    "version": 3
   },
   "file_extension": ".py",
   "mimetype": "text/x-python",
   "name": "python",
   "nbconvert_exporter": "python",
   "pygments_lexer": "ipython3",
   "version": "3.10.5"
  }
 },
 "nbformat": 4,
 "nbformat_minor": 2
}
