{
 "cells": [
  {
   "cell_type": "code",
   "execution_count": 9,
   "metadata": {},
   "outputs": [],
   "source": [
    "#importing prerequisites and necessary libraries\n",
    "import requests\n",
    "import numpy as np\n",
    "import pandas as pd\n",
    "from sklearn.model_selection import train_test_split\n",
    "from sklearn.ensemble import RandomForestRegressor\n",
    "from sklearn.preprocessing import StandardScaler"
   ]
  },
  {
   "cell_type": "code",
   "execution_count": 10,
   "metadata": {},
   "outputs": [],
   "source": [
    "# Fetching latitude and longitude from city name\n",
    "def get_coordinates(city_name):\n",
    "    base_url = \"https://nominatim.openstreetmap.org/search\"\n",
    "    params = {\"q\": city_name, \"format\": \"json\", \"limit\": 1}\n",
    "    headers = {\"User-Agent\": \"WeatherApp/1.0\"}\n",
    "    \n",
    "    response = requests.get(base_url, params=params, headers=headers)\n",
    "    \n",
    "    if response.status_code != 200 or not response.json():\n",
    "        print(\"❌ Could not find coordinates. Please check the city name and try again.\")\n",
    "        return None\n",
    "\n",
    "    data = response.json()[0]\n",
    "    return float(data[\"lat\"]), float(data[\"lon\"])"
   ]
  },
  {
   "cell_type": "code",
   "execution_count": 11,
   "metadata": {},
   "outputs": [],
   "source": [
    "# Fetching weather data\n",
    "def get_weather_data(lat, lon):\n",
    "    weather_url = \"https://api.open-meteo.com/v1/forecast\"\n",
    "    params = {\n",
    "        \"latitude\": lat,\n",
    "        \"longitude\": lon,\n",
    "        \"hourly\": \"temperature_2m,relative_humidity_2m,wind_speed_10m\",\n",
    "        \"timezone\": \"auto\"\n",
    "    }\n",
    "    \n",
    "    response = requests.get(weather_url, params=params)\n",
    "    \n",
    "    if response.status_code == 200:\n",
    "        return response.json()\n",
    "    else:\n",
    "        print(\"❌ Failed to retrieve weather data.\")\n",
    "        return None"
   ]
  },
  {
   "cell_type": "code",
   "execution_count": 12,
   "metadata": {},
   "outputs": [],
   "source": [
    "# Generating synthetic training data\n",
    "np.random.seed(42)\n",
    "weather_df = pd.DataFrame({\n",
    "    \"temperature_2m\": np.random.uniform(0, 40, 500),  # Random temperatures between 0-40°C\n",
    "    \"relative_humidity_2m\": np.random.uniform(20, 90, 500),\n",
    "    \"wind_speed_10m\": np.random.uniform(0, 30, 500)\n",
    "})"
   ]
  },
  {
   "cell_type": "code",
   "execution_count": 13,
   "metadata": {},
   "outputs": [],
   "source": [
    "# Splitting features and target\n",
    "X = weather_df.drop(columns=[\"temperature_2m\"])\n",
    "Y = weather_df[\"temperature_2m\"]"
   ]
  },
  {
   "cell_type": "code",
   "execution_count": 14,
   "metadata": {},
   "outputs": [
    {
     "name": "stdout",
     "output_type": "stream",
     "text": [
      "\n",
      "✅ Data successfully split into training and testing sets.\n"
     ]
    }
   ],
   "source": [
    "# Train-test split\n",
    "X_train, X_test, Y_train, Y_test = train_test_split(X, Y, test_size=0.2, random_state=42)\n",
    "\n",
    "print(\"\\n✅ Data successfully split into training and testing sets.\")"
   ]
  },
  {
   "cell_type": "code",
   "execution_count": 15,
   "metadata": {},
   "outputs": [
    {
     "name": "stdout",
     "output_type": "stream",
     "text": [
      "\n",
      "🚀 Model training complete!\n"
     ]
    }
   ],
   "source": [
    "# Training the Random Forest model\n",
    "model = RandomForestRegressor(n_estimators=10, max_depth=5, random_state=42)\n",
    "model.fit(X_train, Y_train)\n",
    "\n",
    "print(\"\\n🚀 Model training complete!\")"
   ]
  },
  {
   "cell_type": "code",
   "execution_count": 16,
   "metadata": {},
   "outputs": [],
   "source": [
    "#Function to predict temperature for a given city\n",
    "def predict_temperature(city):\n",
    "    coords = get_coordinates(city)\n",
    "\n",
    "    if not coords:\n",
    "        return None\n",
    "\n",
    "    lat, lon = coords\n",
    "    print(f\"\\n✔️ Found '{city}' at Latitude: {lat}, Longitude: {lon}\")\n",
    "\n",
    "    # Fetch and process weather data\n",
    "    weather_data = get_weather_data(lat, lon)\n",
    "\n",
    "    if weather_data:\n",
    "        df = pd.DataFrame(weather_data[\"hourly\"])\n",
    "\n",
    "        if \"temperature_2m\" not in df or df.empty:\n",
    "            print(\"⚠️ No valid weather data found.\")\n",
    "            return None\n",
    "\n",
    "        df.drop(columns=[\"time\"], inplace=True, errors=\"ignore\")  # Remove 'time' column if exists\n",
    "        latest_conditions = df.iloc[-1][[\"relative_humidity_2m\", \"wind_speed_10m\"]].values.reshape(1, -1)\n",
    "\n",
    "        # Make prediction\n",
    "        predicted_temp = model.predict(latest_conditions)[0]\n",
    "        print(f\"\\n🔮 Predicted temperature in '{city}': {predicted_temp:.2f}°C\")\n",
    "        return predicted_temp\n",
    "\n",
    "    else:\n",
    "        print(\"⚠️ No weather data available.\")\n",
    "        return None"
   ]
  },
  {
   "cell_type": "code",
   "execution_count": 19,
   "metadata": {},
   "outputs": [
    {
     "name": "stdout",
     "output_type": "stream",
     "text": [
      "\n",
      "✔️ Found 'New York' at Latitude: 40.7127281, Longitude: -74.0060152\n",
      "\n",
      "🔮 Predicted temperature in 'New York': 23.73°C\n"
     ]
    },
    {
     "name": "stderr",
     "output_type": "stream",
     "text": [
      "c:\\Users\\Welcome\\AppData\\Local\\Programs\\Python\\Python310\\lib\\site-packages\\sklearn\\base.py:493: UserWarning: X does not have valid feature names, but RandomForestRegressor was fitted with feature names\n",
      "  warnings.warn(\n"
     ]
    },
    {
     "data": {
      "text/plain": [
       "np.float64(23.72618653513136)"
      ]
     },
     "execution_count": 19,
     "metadata": {},
     "output_type": "execute_result"
    }
   ],
   "source": [
    "# Taking user input and making predictions\n",
    "city = input(\"\\n🌍 Enter a city name: \").strip()\n",
    "predict_temperature(city)"
   ]
  }
 ],
 "metadata": {
  "kernelspec": {
   "display_name": "Python 3",
   "language": "python",
   "name": "python3"
  },
  "language_info": {
   "codemirror_mode": {
    "name": "ipython",
    "version": 3
   },
   "file_extension": ".py",
   "mimetype": "text/x-python",
   "name": "python",
   "nbconvert_exporter": "python",
   "pygments_lexer": "ipython3",
   "version": "3.10.5"
  }
 },
 "nbformat": 4,
 "nbformat_minor": 2
}
